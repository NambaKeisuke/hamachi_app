{
 "cells": [
  {
   "cell_type": "code",
   "execution_count": 2,
   "id": "ccdd0729-ec00-4e51-94f2-b4808d26796c",
   "metadata": {},
   "outputs": [],
   "source": [
    "import pandas as pd\n",
    "import matplotlib.pyplot as plt\n",
    "import seaborn as sns\n",
    "import numpy as np\n",
    "import statsmodels.api as sm\n",
    "from statsmodels.tsa.seasonal import seasonal_decompose\n",
    "import sys\n",
    "sys.path.append(\"../\")\n",
    "from model import SarimaModel"
   ]
  },
  {
   "cell_type": "code",
   "execution_count": 4,
   "id": "02a5171f-5556-440d-88c2-65aeb0215932",
   "metadata": {},
   "outputs": [],
   "source": [
    "df = pd.read_csv(\"../data/hamachi_price.csv\")"
   ]
  },
  {
   "cell_type": "code",
   "execution_count": 5,
   "id": "82401b10-e86b-4da7-882b-d4f1a770611d",
   "metadata": {},
   "outputs": [],
   "source": [
    "df[\"date\"] = df[\"date\"].apply(lambda x: pd.to_datetime(str(x)))\n",
    "df = df.set_index(df[\"date\"])"
   ]
  },
  {
   "cell_type": "code",
   "execution_count": 6,
   "id": "fe5b26f9-2939-4053-8a5f-6a25d8a8ba59",
   "metadata": {},
   "outputs": [],
   "source": [
    "train = df[\"quantity\"]"
   ]
  },
  {
   "cell_type": "code",
   "execution_count": 7,
   "id": "6178e933-c376-468f-844e-58149c3a54fc",
   "metadata": {},
   "outputs": [],
   "source": [
    "sarima = SarimaModel()"
   ]
  },
  {
   "cell_type": "code",
   "execution_count": 8,
   "id": "1367ac5b-6d4b-4d83-8f4c-c9d96c054f99",
   "metadata": {},
   "outputs": [
    {
     "name": "stderr",
     "output_type": "stream",
     "text": [
      "/Users/estyle-074/opt/anaconda3/envs/sub1/lib/python3.9/site-packages/statsmodels/tsa/base/tsa_model.py:471: ValueWarning: No frequency information was provided, so inferred frequency D will be used.\n",
      "  self._init_dates(dates, freq)\n",
      "/Users/estyle-074/opt/anaconda3/envs/sub1/lib/python3.9/site-packages/statsmodels/tsa/base/tsa_model.py:471: ValueWarning: No frequency information was provided, so inferred frequency D will be used.\n",
      "  self._init_dates(dates, freq)\n",
      " This problem is unconstrained.\n"
     ]
    },
    {
     "name": "stdout",
     "output_type": "stream",
     "text": [
      "RUNNING THE L-BFGS-B CODE\n",
      "\n",
      "           * * *\n",
      "\n",
      "Machine precision = 2.220D-16\n",
      " N =            5     M =           10\n",
      "\n",
      "At X0         0 variables are exactly at the bounds\n",
      "\n",
      "At iterate    0    f=  1.09716D+01    |proj g|=  7.30389D-02\n",
      "\n",
      "At iterate    5    f=  1.08855D+01    |proj g|=  4.22012D-03\n",
      "\n",
      "At iterate   10    f=  1.08851D+01    |proj g|=  5.39915D-04\n",
      "\n",
      "           * * *\n",
      "\n",
      "Tit   = total number of iterations\n",
      "Tnf   = total number of function evaluations\n",
      "Tnint = total number of segments explored during Cauchy searches\n",
      "Skip  = number of BFGS updates skipped\n",
      "Nact  = number of active bounds at final generalized Cauchy point\n",
      "Projg = norm of the final projected gradient\n",
      "F     = final function value\n",
      "\n",
      "           * * *\n",
      "\n",
      "   N    Tit     Tnf  Tnint  Skip  Nact     Projg        F\n",
      "    5     13     15      1     0     0   2.879D-05   1.089D+01\n",
      "  F =   10.885107168862149     \n",
      "\n",
      "CONVERGENCE: REL_REDUCTION_OF_F_<=_FACTR*EPSMCH             \n"
     ]
    },
    {
     "data": {
      "text/html": [
       "<table class=\"simpletable\">\n",
       "<caption>SARIMAX Results</caption>\n",
       "<tr>\n",
       "  <th>Dep. Variable:</th>             <td>quantity</td>            <th>  No. Observations:  </th>    <td>4016</td>   \n",
       "</tr>\n",
       "<tr>\n",
       "  <th>Model:</th>           <td>SARIMAX(1, 1, 1)x(1, 1, 1, 7)</td> <th>  Log Likelihood     </th> <td>-43714.590</td>\n",
       "</tr>\n",
       "<tr>\n",
       "  <th>Date:</th>                  <td>Thu, 16 Mar 2023</td>        <th>  AIC                </th>  <td>87439.181</td>\n",
       "</tr>\n",
       "<tr>\n",
       "  <th>Time:</th>                      <td>09:19:06</td>            <th>  BIC                </th>  <td>87470.661</td>\n",
       "</tr>\n",
       "<tr>\n",
       "  <th>Sample:</th>                   <td>03-01-2012</td>           <th>  HQIC               </th>  <td>87450.339</td>\n",
       "</tr>\n",
       "<tr>\n",
       "  <th></th>                         <td>- 02-27-2023</td>          <th>                     </th>      <td> </td>    \n",
       "</tr>\n",
       "<tr>\n",
       "  <th>Covariance Type:</th>              <td>opg</td>              <th>                     </th>      <td> </td>    \n",
       "</tr>\n",
       "</table>\n",
       "<table class=\"simpletable\">\n",
       "<tr>\n",
       "     <td></td>        <th>coef</th>     <th>std err</th>      <th>z</th>      <th>P>|z|</th>  <th>[0.025</th>    <th>0.975]</th>  \n",
       "</tr>\n",
       "<tr>\n",
       "  <th>ar.L1</th>   <td>   -0.0036</td> <td>    0.014</td> <td>   -0.257</td> <td> 0.797</td> <td>   -0.031</td> <td>    0.024</td>\n",
       "</tr>\n",
       "<tr>\n",
       "  <th>ma.L1</th>   <td>   -0.9244</td> <td>    0.007</td> <td> -133.925</td> <td> 0.000</td> <td>   -0.938</td> <td>   -0.911</td>\n",
       "</tr>\n",
       "<tr>\n",
       "  <th>ar.S.L7</th> <td>    0.0841</td> <td>    0.021</td> <td>    4.002</td> <td> 0.000</td> <td>    0.043</td> <td>    0.125</td>\n",
       "</tr>\n",
       "<tr>\n",
       "  <th>ma.S.L7</th> <td>   -0.8779</td> <td>    0.013</td> <td>  -67.887</td> <td> 0.000</td> <td>   -0.903</td> <td>   -0.853</td>\n",
       "</tr>\n",
       "<tr>\n",
       "  <th>sigma2</th>  <td> 2.843e+08</td> <td> 2.36e-11</td> <td>  1.2e+19</td> <td> 0.000</td> <td> 2.84e+08</td> <td> 2.84e+08</td>\n",
       "</tr>\n",
       "</table>\n",
       "<table class=\"simpletable\">\n",
       "<tr>\n",
       "  <th>Ljung-Box (L1) (Q):</th>     <td>0.00</td> <th>  Jarque-Bera (JB):  </th> <td>17053.48</td>\n",
       "</tr>\n",
       "<tr>\n",
       "  <th>Prob(Q):</th>                <td>0.96</td> <th>  Prob(JB):          </th>   <td>0.00</td>  \n",
       "</tr>\n",
       "<tr>\n",
       "  <th>Heteroskedasticity (H):</th> <td>0.92</td> <th>  Skew:              </th>   <td>-0.04</td> \n",
       "</tr>\n",
       "<tr>\n",
       "  <th>Prob(H) (two-sided):</th>    <td>0.13</td> <th>  Kurtosis:          </th>   <td>13.10</td> \n",
       "</tr>\n",
       "</table><br/><br/>Warnings:<br/>[1] Covariance matrix calculated using the outer product of gradients (complex-step).<br/>[2] Covariance matrix is singular or near-singular, with condition number 2.86e+33. Standard errors may be unstable."
      ],
      "text/plain": [
       "<class 'statsmodels.iolib.summary.Summary'>\n",
       "\"\"\"\n",
       "                                     SARIMAX Results                                     \n",
       "=========================================================================================\n",
       "Dep. Variable:                          quantity   No. Observations:                 4016\n",
       "Model:             SARIMAX(1, 1, 1)x(1, 1, 1, 7)   Log Likelihood              -43714.590\n",
       "Date:                           Thu, 16 Mar 2023   AIC                          87439.181\n",
       "Time:                                   09:19:06   BIC                          87470.661\n",
       "Sample:                               03-01-2012   HQIC                         87450.339\n",
       "                                    - 02-27-2023                                         \n",
       "Covariance Type:                             opg                                         \n",
       "==============================================================================\n",
       "                 coef    std err          z      P>|z|      [0.025      0.975]\n",
       "------------------------------------------------------------------------------\n",
       "ar.L1         -0.0036      0.014     -0.257      0.797      -0.031       0.024\n",
       "ma.L1         -0.9244      0.007   -133.925      0.000      -0.938      -0.911\n",
       "ar.S.L7        0.0841      0.021      4.002      0.000       0.043       0.125\n",
       "ma.S.L7       -0.8779      0.013    -67.887      0.000      -0.903      -0.853\n",
       "sigma2      2.843e+08   2.36e-11    1.2e+19      0.000    2.84e+08    2.84e+08\n",
       "===================================================================================\n",
       "Ljung-Box (L1) (Q):                   0.00   Jarque-Bera (JB):             17053.48\n",
       "Prob(Q):                              0.96   Prob(JB):                         0.00\n",
       "Heteroskedasticity (H):               0.92   Skew:                            -0.04\n",
       "Prob(H) (two-sided):                  0.13   Kurtosis:                        13.10\n",
       "===================================================================================\n",
       "\n",
       "Warnings:\n",
       "[1] Covariance matrix calculated using the outer product of gradients (complex-step).\n",
       "[2] Covariance matrix is singular or near-singular, with condition number 2.86e+33. Standard errors may be unstable.\n",
       "\"\"\""
      ]
     },
     "metadata": {},
     "output_type": "display_data"
    }
   ],
   "source": [
    "sarima_fit = sarima.fit(train)"
   ]
  },
  {
   "cell_type": "code",
   "execution_count": 10,
   "id": "18c61fc7-a2bd-4f12-bb7a-64340a9e9199",
   "metadata": {},
   "outputs": [],
   "source": [
    "test_pred = sarima.predict(sarima_fit)"
   ]
  },
  {
   "cell_type": "code",
   "execution_count": 11,
   "id": "7921b93b-79b2-482f-abb8-0fa90e398103",
   "metadata": {},
   "outputs": [
    {
     "data": {
      "image/png": "[encoded data removed]",
      "text/plain": [
       "<Figure size 432x288 with 1 Axes>"
      ]
     },
     "metadata": {
      "needs_background": "light"
     },
     "output_type": "display_data"
    }
   ],
   "source": [
    "plt.plot(df.loc[\"2023\"][\"quantity\"])\n",
    "plt.plot(test_pred)\n",
    "plt.show()"
   ]
  },
  {
   "cell_type": "code",
   "execution_count": null,
   "id": "36527aa8-fdfb-446f-beb3-df8a18e02492",
   "metadata": {},
   "outputs": [],
   "source": []
  }
 ],
 "metadata": {
  "kernelspec": {
   "display_name": "Python 3 (ipykernel)",
   "language": "python",
   "name": "python3"
  },
  "language_info": {
   "codemirror_mode": {
    "name": "ipython",
    "version": 3
   },
   "file_extension": ".py",
   "mimetype": "text/x-python",
   "name": "python",
   "nbconvert_exporter": "python",
   "pygments_lexer": "ipython3",
   "version": "3.9.12"
  }
 },
 "nbformat": 4,
 "nbformat_minor": 5
}
